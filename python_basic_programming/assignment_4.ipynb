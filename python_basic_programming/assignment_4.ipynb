{
 "cells": [
  {
   "cell_type": "code",
   "execution_count": 1,
   "metadata": {},
   "outputs": [
    {
     "name": "stdout",
     "output_type": "stream",
     "text": [
      "120\n"
     ]
    }
   ],
   "source": [
    "#1. Write a Python Program to Find the Factorial of a Number?\n",
    "\n",
    "number = 5\n",
    "tmp = 1\n",
    "for i in range(5,0,-1):\n",
    "    tmp = tmp*i\n",
    "print (tmp)"
   ]
  },
  {
   "cell_type": "code",
   "execution_count": 2,
   "metadata": {},
   "outputs": [
    {
     "name": "stdout",
     "output_type": "stream",
     "text": [
      "2 x 1 = 2\n",
      "2 x 2 = 4\n",
      "2 x 3 = 6\n",
      "2 x 4 = 8\n",
      "2 x 5 = 10\n",
      "2 x 6 = 12\n",
      "2 x 7 = 14\n",
      "2 x 8 = 16\n",
      "2 x 9 = 18\n",
      "2 x 10 = 20\n",
      "2 x 11 = 22\n",
      "2 x 12 = 24\n"
     ]
    }
   ],
   "source": [
    "#2. Write a Python Program to Display the multiplication Table?\n",
    "\n",
    "num = 2\n",
    "\n",
    "for i in range(1, 13):\n",
    "    print(num, 'x', i, '=', num*i)"
   ]
  },
  {
   "cell_type": "code",
   "execution_count": 4,
   "metadata": {},
   "outputs": [
    {
     "data": {
      "text/plain": [
       "[1, 1, 2, 3, 5, 8, 13, 21, 34, 55]"
      ]
     },
     "execution_count": 4,
     "metadata": {},
     "output_type": "execute_result"
    }
   ],
   "source": [
    "#3. Write a Python Program to Print the Fibonacci sequence?\n",
    "def genfi(n):\n",
    "    a = 1\n",
    "    b = 1\n",
    "    seq =[]\n",
    "    for i in range(n):\n",
    "        seq.append(a)\n",
    "        a,b = b,a+b\n",
    "    return seq\n",
    "\n",
    "genfi(10)"
   ]
  },
  {
   "cell_type": "code",
   "execution_count": 30,
   "metadata": {},
   "outputs": [
    {
     "data": {
      "text/plain": [
       "True"
      ]
     },
     "execution_count": 30,
     "metadata": {},
     "output_type": "execute_result"
    }
   ],
   "source": [
    "### 4. Write a Python Program to Check Armstrong Number?\n",
    "def order(n):\n",
    "    x = 0\n",
    "    while n!=0:\n",
    "        x = x+1\n",
    "        n = n//10\n",
    "    return x\n",
    "def arm_num(num):\n",
    "    tmp = num\n",
    "    num_order = order(num)\n",
    "    sum_total = 0\n",
    "    while tmp !=0:\n",
    "        r = tmp%10\n",
    "        sum_total = sum_total + r**3\n",
    "        \n",
    "        tmp = tmp//10\n",
    "    return (sum_total == num)\n",
    "\n",
    "arm_num(407)\n",
    "        \n",
    "\n",
    "\n"
   ]
  },
  {
   "cell_type": "code",
   "execution_count": 27,
   "metadata": {},
   "outputs": [
    {
     "data": {
      "text/plain": [
       "[1, 153, 370, 371, 407]"
      ]
     },
     "execution_count": 27,
     "metadata": {},
     "output_type": "execute_result"
    }
   ],
   "source": [
    "#5. Write a Python Program to Find Armstrong Number in an Interval?\n",
    "def order(n):\n",
    "    x = 0\n",
    "    while n!=0:\n",
    "        x = x+1\n",
    "        n = n//10\n",
    "    return x\n",
    "def arm_num(num):\n",
    "    \n",
    "    arm_list = []\n",
    "    for i in range(1,num):\n",
    "        \n",
    "        tmp = i\n",
    "        num_order = order(i)\n",
    "        sum_total = 0\n",
    "        while tmp !=0:\n",
    "            r = tmp%10\n",
    "            sum_total = sum_total + r**3\n",
    "            tmp = tmp//10\n",
    "            \n",
    "        if sum_total == i:\n",
    "            \n",
    "            arm_list.append(i)\n",
    "    return arm_list\n",
    "\n",
    "arm_num(1634)\n"
   ]
  },
  {
   "cell_type": "code",
   "execution_count": 34,
   "metadata": {},
   "outputs": [
    {
     "name": "stdout",
     "output_type": "stream",
     "text": [
      "[-4, -3, -2, -1, 0, 1, 2, 3, 4, 5, 6, 7, 8, 9, 10, 11, 12, 13, 14, 15, 16, 17, 18, 19, 20, 21, 22, 23, 24, 25, 26, 27, 28, 29, 30, 31, 32, 33, 34, 35, 36, 37, 38, 39, 40, 41, 42, 43, 44, 45, 46, 47, 48, 49, 50, 51, 52, 53, 54]\n",
      "1485\n"
     ]
    }
   ],
   "source": [
    "#6. Write a Python Program to Find the Sum of Natural Numbers?\n",
    "\n",
    "num_list = list(range(-4,55))\n",
    "print(num_list)\n",
    "sum_val = sum([i for i in num_list if i >=0])\n",
    "print (sum_val)"
   ]
  }
 ],
 "metadata": {
  "kernelspec": {
   "display_name": "Python 3",
   "language": "python",
   "name": "python3"
  },
  "language_info": {
   "codemirror_mode": {
    "name": "ipython",
    "version": 3
   },
   "file_extension": ".py",
   "mimetype": "text/x-python",
   "name": "python",
   "nbconvert_exporter": "python",
   "pygments_lexer": "ipython3",
   "version": "3.8.5"
  }
 },
 "nbformat": 4,
 "nbformat_minor": 4
}
