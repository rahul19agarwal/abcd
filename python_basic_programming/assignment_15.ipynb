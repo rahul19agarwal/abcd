{
 "cells": [
  {
   "cell_type": "code",
   "execution_count": 1,
   "metadata": {},
   "outputs": [
    {
     "data": {
      "text/plain": [
       "[0, 35, 70]"
      ]
     },
     "execution_count": 1,
     "metadata": {},
     "output_type": "execute_result"
    }
   ],
   "source": [
    "#Please write a program using generator to print the numbers which can be divisible by 5 and\n",
    "#7 between 0 and n in comma separated form while n is input by console.\n",
    "\n",
    "\n",
    "class pref:\n",
    "    def __init__(self,num):\n",
    "        self.num = num\n",
    "    def gene(self,val):\n",
    "        for i in range(val):\n",
    "            if i % 7 ==0 and i %5 ==0:\n",
    "                yield i\n",
    "    def gene_range(self):\n",
    "        val_list = []\n",
    "        for i in self.gene(self.num):  \n",
    "            val_list.append(i)\n",
    "        return val_list\n",
    "\n",
    "a = pref(100)\n",
    "a.gene_range()"
   ]
  },
  {
   "cell_type": "code",
   "execution_count": 3,
   "metadata": {},
   "outputs": [
    {
     "data": {
      "text/plain": [
       "[0, 2, 4, 6, 8]"
      ]
     },
     "execution_count": 3,
     "metadata": {},
     "output_type": "execute_result"
    }
   ],
   "source": [
    "#Please write a program using generator to print the even numbers between 0 and n in comma\n",
    "#separated form while n is input by console.\n",
    "\n",
    "class pref:\n",
    "    def __init__(self,num):\n",
    "        self.num = num\n",
    "    def gene(self,val):\n",
    "        for i in range(val):\n",
    "            if i % 2 ==0:\n",
    "                yield i\n",
    "    def gene_range(self):\n",
    "        val_list = []\n",
    "        for i in self.gene(self.num):  \n",
    "            val_list.append(i)\n",
    "        return val_list\n",
    "\n",
    "a = pref(10)\n",
    "a.gene_range()\n"
   ]
  },
  {
   "cell_type": "code",
   "execution_count": 28,
   "metadata": {},
   "outputs": [
    {
     "name": "stdout",
     "output_type": "stream",
     "text": [
      "enter the n input to generate fibonacci series7\n",
      "[0, 1, 1, 2, 3, 5, 8]\n"
     ]
    }
   ],
   "source": [
    "#Please write a program using list comprehension to print the Fibonacci Sequence in comma\n",
    "#separated form with a given n input by console.\n",
    "\n",
    "fib_val = int(input('enter the n input to generate fibonacci series'))\n",
    "\n",
    "series = []\n",
    "\n",
    "\n",
    "lt_cmp = [series.append(i) if i <=1 else series.append(series[i-1]+series[i-2]) for i in range(fib_val)]\n",
    "print (series)"
   ]
  },
  {
   "cell_type": "code",
   "execution_count": 30,
   "metadata": {},
   "outputs": [
    {
     "name": "stdout",
     "output_type": "stream",
     "text": [
      "john google\n"
     ]
    }
   ],
   "source": [
    "#Assuming that we have some email addresses in the &quot;username@companyname.com&quot; format,\n",
    "#please write program to print the user name of a given email address. Both user names and\n",
    "#company names are composed of letters only.\n",
    "#Example:\n",
    "#If the following email address is given as input to the program:\n",
    "#john@google.com\n",
    "\n",
    "a = 'john@google.com'\n",
    "splt = a.split('@')\n",
    "user,comp = splt[0],splt[1].split('.')[0]\n",
    "print (user,comp)"
   ]
  },
  {
   "cell_type": "code",
   "execution_count": 6,
   "metadata": {},
   "outputs": [
    {
     "name": "stdout",
     "output_type": "stream",
     "text": [
      "0\n",
      "0\n"
     ]
    }
   ],
   "source": [
    "#Define a class named Shape and its subclass Square. The Square class has an init function\n",
    "#which takes a length as argument. Both classes have a area function which can print the area\n",
    "#of the shape where Shape's area is 0 by default.\n",
    "class Shape:\n",
    "    def __init__(self,area=0):\n",
    "        self.area = area\n",
    "        \n",
    "    def area(self):\n",
    "        print ('shape class',self.area)\n",
    "class Square(Shape):\n",
    "    obj_shape = Shape()\n",
    "    def __init__(self,length,*args):\n",
    "        super(Square,self).__init__(*args)\n",
    "        self.length = length\n",
    "    def area(self):\n",
    "        print(self.area)\n",
    "        \n",
    "a = Shape()\n",
    "b = Square(3)\n",
    "print(b.area)\n",
    "print(b.obj_shape.area)"
   ]
  },
  {
   "cell_type": "code",
   "execution_count": null,
   "metadata": {},
   "outputs": [],
   "source": []
  }
 ],
 "metadata": {
  "kernelspec": {
   "display_name": "Python 3",
   "language": "python",
   "name": "python3"
  },
  "language_info": {
   "codemirror_mode": {
    "name": "ipython",
    "version": 3
   },
   "file_extension": ".py",
   "mimetype": "text/x-python",
   "name": "python",
   "nbconvert_exporter": "python",
   "pygments_lexer": "ipython3",
   "version": "3.8.5"
  }
 },
 "nbformat": 4,
 "nbformat_minor": 4
}
