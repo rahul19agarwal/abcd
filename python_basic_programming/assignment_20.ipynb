{
 "cells": [
  {
   "cell_type": "code",
   "execution_count": 1,
   "metadata": {},
   "outputs": [
    {
     "data": {
      "text/plain": [
       "[2, 3, 4, 5, 5]"
      ]
     },
     "execution_count": 1,
     "metadata": {},
     "output_type": "execute_result"
    }
   ],
   "source": [
    "#Create a function that takes a list of strings and integers, and filters out the list so that it\n",
    "#returns a list of integers only.\n",
    "\n",
    "def filter_list(lt):\n",
    "    a = [i for i in lt if type(i) == int]\n",
    "    return a\n",
    "filter_list([2,3,4,5,'wewrwer',5,'gerg'])"
   ]
  },
  {
   "cell_type": "code",
   "execution_count": 2,
   "metadata": {},
   "outputs": [
    {
     "data": {
      "text/plain": [
       "[2, 4, 6, 8, 10]"
      ]
     },
     "execution_count": 2,
     "metadata": {},
     "output_type": "execute_result"
    }
   ],
   "source": [
    "#Given a list of numbers, create a function which returns the list but with each element&#39;s\n",
    "#index in the list added to itself. This means you add 0 to the number at index 0, add 1 to the\n",
    "#number at index 1, etc...\n",
    "\n",
    "def index_sum(lt):\n",
    "    a = [i+lt.index(i) for i in lt]\n",
    "    return a\n",
    "index_sum([2,3,4,5,6])"
   ]
  },
  {
   "cell_type": "code",
   "execution_count": 5,
   "metadata": {},
   "outputs": [
    {
     "data": {
      "text/plain": [
       "12.56"
      ]
     },
     "execution_count": 5,
     "metadata": {},
     "output_type": "execute_result"
    }
   ],
   "source": [
    "#Create a function that takes the height and radius of a cone as arguments and returns the\n",
    "#volume of the cone rounded to the nearest hundredth. See the resources tab for the formula.\n",
    "\n",
    "def volume(height,radius):\n",
    "    return 3.14 *(radius**2) *(height/3)\n",
    "volume(3,2)"
   ]
  },
  {
   "cell_type": "code",
   "execution_count": 19,
   "metadata": {},
   "outputs": [
    {
     "data": {
      "text/plain": [
       "23220"
      ]
     },
     "execution_count": 19,
     "metadata": {},
     "output_type": "execute_result"
    }
   ],
   "source": [
    "#Write a function that gives the number of dots with its corresponding triangle number of the sequence.\n",
    "\n",
    "def triangle(num):\n",
    "    triangle_lt = []\n",
    "    tmp =0\n",
    "    for count,i in enumerate(range(1,num+1)):\n",
    "        tmp = tmp + (i)\n",
    "        \n",
    "        triangle_lt.append(tmp)\n",
    "    return triangle_lt[num-1]\n",
    "triangle(215)"
   ]
  },
  {
   "cell_type": "code",
   "execution_count": 20,
   "metadata": {},
   "outputs": [
    {
     "name": "stdout",
     "output_type": "stream",
     "text": [
      "3.0\n"
     ]
    }
   ],
   "source": [
    "#Create a function that takes a list of numbers between 1 and 10 (excluding one number) and \n",
    "#returns the missing number.\n",
    "\n",
    "def getMissingNo(A):\n",
    "    n = len(A)\n",
    "    total = (n + 1)*(n + 2)/2\n",
    "    sum_of_A = sum(A)\n",
    "    return total - sum_of_A\n",
    " \n",
    "# Driver program to test the above function\n",
    "A = [1, 2, 4, 5, 6]\n",
    "miss = getMissingNo(A)\n",
    "print(miss)"
   ]
  },
  {
   "cell_type": "code",
   "execution_count": null,
   "metadata": {},
   "outputs": [],
   "source": []
  }
 ],
 "metadata": {
  "kernelspec": {
   "display_name": "Python 3",
   "language": "python",
   "name": "python3"
  },
  "language_info": {
   "codemirror_mode": {
    "name": "ipython",
    "version": 3
   },
   "file_extension": ".py",
   "mimetype": "text/x-python",
   "name": "python",
   "nbconvert_exporter": "python",
   "pygments_lexer": "ipython3",
   "version": "3.8.5"
  }
 },
 "nbformat": 4,
 "nbformat_minor": 4
}
