{
 "cells": [
  {
   "cell_type": "code",
   "execution_count": 6,
   "metadata": {},
   "outputs": [
    {
     "data": {
      "text/plain": [
       "3"
      ]
     },
     "execution_count": 6,
     "metadata": {},
     "output_type": "execute_result"
    }
   ],
   "source": [
    "\"\"\"\n",
    "Create a function that takes three integer arguments (a, b, c) and returns the amount of\n",
    "integers which are of equal value.\n",
    "\"\"\"\n",
    "def equal(a,b,c):\n",
    "    data_dict = {}\n",
    "    lt = [a,b,c]\n",
    "    for i in lt:\n",
    "        if i in data_dict:\n",
    "            data_dict[i] +=1\n",
    "        else:\n",
    "            data_dict[i] = 1\n",
    "    return [key if value >=2 else 0 for key,value in data_dict.items() ][0]\n",
    "\n",
    "equal(3, 4, 3) "
   ]
  },
  {
   "cell_type": "code",
   "execution_count": 10,
   "metadata": {},
   "outputs": [
    {
     "data": {
      "text/plain": [
       "[('B', 2), ('C', 3), ('D', 1)]"
      ]
     },
     "execution_count": 10,
     "metadata": {},
     "output_type": "execute_result"
    }
   ],
   "source": [
    "\"\"\"\n",
    "Write a function that converts a dictionary into a list of keys-values tuples.\n",
    "\"\"\"\n",
    "\n",
    "def dict_to_list(dict1):\n",
    "    return sorted([(key,value) for key,value in dict1.items()])\n",
    "\n",
    "dict_to_list({\n",
    "  \"D\": 1,\n",
    "  \"B\": 2,\n",
    "  \"C\": 3\n",
    "})\n",
    "\n",
    "\n"
   ]
  },
  {
   "cell_type": "code",
   "execution_count": 12,
   "metadata": {},
   "outputs": [
    {
     "data": {
      "text/plain": [
       "{'a': 'A', 'b': 'B', 'c': 'C'}"
      ]
     },
     "execution_count": 12,
     "metadata": {},
     "output_type": "execute_result"
    }
   ],
   "source": [
    "\"\"\"\n",
    "Write a function that creates a dictionary with each (key, value) pair being the \n",
    "(lower case, upper case) versions of a letter, respectively.\n",
    "\"\"\"\n",
    "def mapping(lt1):\n",
    "    return dict([(i,i.upper()) for i in lt1])\n",
    "\n",
    "mapping([\"a\", \"b\", \"c\"])"
   ]
  },
  {
   "cell_type": "code",
   "execution_count": 24,
   "metadata": {},
   "outputs": [
    {
     "data": {
      "text/plain": [
       "'chooso cossorolo'"
      ]
     },
     "execution_count": 24,
     "metadata": {},
     "output_type": "execute_result"
    }
   ],
   "source": [
    "\"\"\"\n",
    "Write a function, that replaces all vowels in a string with a specified vowel.\n",
    "\"\"\"\n",
    "def vow_replace(string,val):\n",
    "    a = 'aeiou'\n",
    "    b = string\n",
    "    for i in a:\n",
    "        if i in b:\n",
    "            b = b.replace(i,val)\n",
    "    return b\n",
    "    \n",
    "    \n",
    "\n",
    "vow_replace(\"cheese casserole\", \"o\") \n"
   ]
  },
  {
   "cell_type": "code",
   "execution_count": 26,
   "metadata": {},
   "outputs": [
    {
     "data": {
      "text/plain": [
       "'THe LiTTLe meRmaiD'"
      ]
     },
     "execution_count": 26,
     "metadata": {},
     "output_type": "execute_result"
    }
   ],
   "source": [
    "\"\"\"\n",
    "Create a function that takes a string as input and capitalizes a letter if its \n",
    "ASCII code is even and returns its lower \n",
    "case version if its ASCII code is odd.\n",
    "\"\"\"\n",
    "def ascii_capitalize(string):\n",
    "    for i in string:\n",
    "        if ord(i)%2 ==0 :\n",
    "            string = string.replace(i,i.upper())\n",
    "        else:\n",
    "            string = string.replace(i,i.lower())\n",
    "    return string\n",
    "    \n",
    "    \n",
    "ascii_capitalize(\"THE LITTLE MERMAID\")"
   ]
  }
 ],
 "metadata": {
  "kernelspec": {
   "display_name": "Python 3",
   "language": "python",
   "name": "python3"
  },
  "language_info": {
   "codemirror_mode": {
    "name": "ipython",
    "version": 3
   },
   "file_extension": ".py",
   "mimetype": "text/x-python",
   "name": "python",
   "nbconvert_exporter": "python",
   "pygments_lexer": "ipython3",
   "version": "3.8.5"
  }
 },
 "nbformat": 4,
 "nbformat_minor": 4
}
