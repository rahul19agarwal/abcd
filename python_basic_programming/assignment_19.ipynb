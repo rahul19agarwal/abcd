{
 "cells": [
  {
   "cell_type": "code",
   "execution_count": 2,
   "metadata": {},
   "outputs": [
    {
     "data": {
      "text/plain": [
       "'ppyytthhoonn'"
      ]
     },
     "execution_count": 2,
     "metadata": {},
     "output_type": "execute_result"
    }
   ],
   "source": [
    "#Create a function that takes a string and returns a string in which each character is repeated once.\n",
    "def string(st):\n",
    "    string = ''\n",
    "    for i in st:\n",
    "        string = string + i*2\n",
    "    return string\n",
    "\n",
    "string('python')"
   ]
  },
  {
   "cell_type": "code",
   "execution_count": 11,
   "metadata": {},
   "outputs": [
    {
     "data": {
      "text/plain": [
       "False"
      ]
     },
     "execution_count": 11,
     "metadata": {},
     "output_type": "execute_result"
    }
   ],
   "source": [
    "#Create a function that reverses a boolean value and returns the string \"boolean expected\"\n",
    "#if another variable type is given.\n",
    "\n",
    "def rev_bool(value):\n",
    "    if type(value) == bool:\n",
    "        return not(value)\n",
    "    else:\n",
    "        return 'boolean expected'\n",
    "    \n",
    "rev_bool(True)"
   ]
  },
  {
   "cell_type": "code",
   "execution_count": 13,
   "metadata": {},
   "outputs": [
    {
     "data": {
      "text/plain": [
       "1048.576"
      ]
     },
     "execution_count": 13,
     "metadata": {},
     "output_type": "execute_result"
    }
   ],
   "source": [
    "#Create a function that returns the thickness (in meters) of a piece of paper after folding it n\n",
    "#number of times. The paper starts off with a thickness of 0.5mm.\n",
    "\n",
    "def thickness(val,fold):\n",
    "    tmp = val\n",
    "    for _ in range(fold):\n",
    "        tmp *= 2\n",
    "        \n",
    "    return (tmp/1000)\n",
    "thickness(0.5,21)"
   ]
  },
  {
   "cell_type": "code",
   "execution_count": 16,
   "metadata": {},
   "outputs": [
    {
     "data": {
      "text/plain": [
       "[0, 7, 15, 17, 19]"
      ]
     },
     "execution_count": 16,
     "metadata": {},
     "output_type": "execute_result"
    }
   ],
   "source": [
    "#Create a function that takes a single string as argument and returns an ordered list containing\n",
    "#the indices of all capital letters in the string.\n",
    "\n",
    "def get_cap(string):\n",
    "    a = [string.index(i) for i in string if i.isupper() == True]\n",
    "    return a\n",
    "get_cap('Python Machine LeArNing')\n"
   ]
  },
  {
   "cell_type": "code",
   "execution_count": 17,
   "metadata": {},
   "outputs": [
    {
     "data": {
      "text/plain": [
       "[0, 2, 4, 6, 8]"
      ]
     },
     "execution_count": 17,
     "metadata": {},
     "output_type": "execute_result"
    }
   ],
   "source": [
    "#Using list comprehensions, create a function that finds all even numbers from 1 to the given number.\n",
    "\n",
    "def even_num(val):\n",
    "    a = [i for i in range(val) if i%2 == 0]\n",
    "    return a\n",
    "even_num(10)"
   ]
  }
 ],
 "metadata": {
  "kernelspec": {
   "display_name": "Python 3",
   "language": "python",
   "name": "python3"
  },
  "language_info": {
   "codemirror_mode": {
    "name": "ipython",
    "version": 3
   },
   "file_extension": ".py",
   "mimetype": "text/x-python",
   "name": "python",
   "nbconvert_exporter": "python",
   "pygments_lexer": "ipython3",
   "version": "3.8.5"
  }
 },
 "nbformat": 4,
 "nbformat_minor": 4
}
