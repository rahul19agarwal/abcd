{
 "cells": [
  {
   "cell_type": "code",
   "execution_count": 1,
   "metadata": {},
   "outputs": [
    {
     "data": {
      "text/plain": [
       "[1, 2, 4, 5, 6, 5]"
      ]
     },
     "execution_count": 1,
     "metadata": {},
     "output_type": "execute_result"
    }
   ],
   "source": [
    "#Create a function that takes a list of non-negative integers and strings and return a new list\n",
    "#without the strings.\n",
    "\n",
    "def func_list(list_val):\n",
    "    new_lst = []\n",
    "    for i in list_val:\n",
    "        if type(i) == int:\n",
    "            new_lst.append(i)\n",
    "    return new_lst\n",
    "func_list([1,2,4,5,6,'wewqeqwe','wqeqwe',5])"
   ]
  },
  {
   "cell_type": "code",
   "execution_count": 15,
   "metadata": {},
   "outputs": [
    {
     "name": "stdout",
     "output_type": "stream",
     "text": [
      "['R', 'A', 'H', 'U', 'L', ' ', 'A', 'G', 'a', 'r', 'W', 'A', 'L']\n"
     ]
    },
    {
     "data": {
      "text/plain": [
       "'L A W r a G A   L U H A R'"
      ]
     },
     "execution_count": 15,
     "metadata": {},
     "output_type": "execute_result"
    }
   ],
   "source": [
    "#The \"Reverser\" takes a string as input and returns that string in reverse order, with the\n",
    "#opposite case.\n",
    "\n",
    "def reverse_str(string):\n",
    "    lt = []\n",
    "    val_list = [i.islower() if i.islower() == False and i.isalpha() else i for i in string]\n",
    "    for i in string:\n",
    "        if i.isalpha():\n",
    "            if i.islower():\n",
    "                lt.append(i.upper())\n",
    "            else:\n",
    "                lt.append(i.lower())\n",
    "            \n",
    "        else:\n",
    "            lt.append(i)\n",
    "    print(lt)\n",
    "    return ' '.join(lt[::-1])\n",
    "\n",
    "a = 'rahul agARwal'\n",
    "reverse_str(a)"
   ]
  },
  {
   "cell_type": "code",
   "execution_count": 16,
   "metadata": {},
   "outputs": [
    {
     "name": "stdout",
     "output_type": "stream",
     "text": [
      "1   [2, 3, 4, 5]   6\n"
     ]
    }
   ],
   "source": [
    "# Create variables first, middle and last from the given list using destructuring assignment\n",
    "lst = [1, 2, 3, 4, 5, 6]\n",
    "first = lst[0]\n",
    "middle = lst[1:-1]\n",
    "last = lst[-1]\n",
    "print (first,' ',middle,' ',last)"
   ]
  },
  {
   "cell_type": "code",
   "execution_count": 21,
   "metadata": {},
   "outputs": [
    {
     "data": {
      "text/plain": [
       "120"
      ]
     },
     "execution_count": 21,
     "metadata": {},
     "output_type": "execute_result"
    }
   ],
   "source": [
    "#Write a function that calculates the factorial of a number recursively.\n",
    "def recursive(val):\n",
    "    if val <= 1:\n",
    "        return val\n",
    "    else:\n",
    "        return val*recursive(val-1)\n",
    "recursive(5)\n"
   ]
  },
  {
   "cell_type": "code",
   "execution_count": 28,
   "metadata": {},
   "outputs": [
    {
     "data": {
      "text/plain": [
       "[3, 2, 4, 4, 1, 1]"
      ]
     },
     "execution_count": 28,
     "metadata": {},
     "output_type": "execute_result"
    }
   ],
   "source": [
    "#Write a function that moves all elements of one type to the end of the list.\n",
    "\n",
    "def move_to_end(lt,val):\n",
    "        lt.sort(key = val.__eq__)\n",
    "        return lt\n",
    "\n",
    "\n",
    "move_to_end([1, 3, 2, 4, 4, 1], 1)\n"
   ]
  }
 ],
 "metadata": {
  "kernelspec": {
   "display_name": "Python 3",
   "language": "python",
   "name": "python3"
  },
  "language_info": {
   "codemirror_mode": {
    "name": "ipython",
    "version": 3
   },
   "file_extension": ".py",
   "mimetype": "text/x-python",
   "name": "python",
   "nbconvert_exporter": "python",
   "pygments_lexer": "ipython3",
   "version": "3.8.5"
  }
 },
 "nbformat": 4,
 "nbformat_minor": 4
}
