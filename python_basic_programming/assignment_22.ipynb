{
 "cells": [
  {
   "cell_type": "code",
   "execution_count": 1,
   "metadata": {},
   "outputs": [
    {
     "data": {
      "text/plain": [
       "[3, 6, 9]"
      ]
     },
     "execution_count": 1,
     "metadata": {},
     "output_type": "execute_result"
    }
   ],
   "source": [
    "#Return an ordered list with numbers in the range that are divisible by the third parameter n.\n",
    "#Return an empty list if there are no numbers that are divisible by n.\n",
    "\n",
    "def list_operation(st,end,chk):\n",
    "    a = [i for i in range(st,end) if i%chk ==0]\n",
    "    return a\n",
    "\n",
    "list_operation(1, 10, 3)"
   ]
  },
  {
   "cell_type": "code",
   "execution_count": 6,
   "metadata": {},
   "outputs": [
    {
     "data": {
      "text/plain": [
       "False"
      ]
     },
     "execution_count": 6,
     "metadata": {},
     "output_type": "execute_result"
    }
   ],
   "source": [
    "#Create a function that takes in two lists and returns True if the second list follows the first list\n",
    "#by one element, and False otherwise. In other words, determine if the second list is the first\n",
    "#list shifted to the right by 1.\n",
    "\n",
    "def simon_says(lt1,lt2):\n",
    "    if len(lt1) != len(lt2) or len(lt1) <2 or len(lt2) < 2:\n",
    "        return 'List are not valid'\n",
    "    else:\n",
    "        flag = False\n",
    "        for i in range(0,len(lt1)-1):\n",
    "            if lt1[i] == lt2[i+1]:\n",
    "                flag = True\n",
    "            else:\n",
    "                flag = False\n",
    "        return flag\n",
    "\n",
    "\n",
    "simon_says([1, 2, 3, 4, 5], [5, 5, 1, 2, 3])"
   ]
  },
  {
   "cell_type": "code",
   "execution_count": 8,
   "metadata": {},
   "outputs": [
    {
     "data": {
      "text/plain": [
       "'AMS'"
      ]
     },
     "execution_count": 8,
     "metadata": {},
     "output_type": "execute_result"
    }
   ],
   "source": [
    "#Create a function that takes in a list of names and returns the name of the secret society.\n",
    "def society_name(lt1):\n",
    "    a = sorted([i[0] for i in lt1])\n",
    "    return ''.join(a)\n",
    "\n",
    "society_name([\"Adam\", \"Sarah\", \"Malcolm\"])\n"
   ]
  },
  {
   "cell_type": "code",
   "execution_count": 16,
   "metadata": {},
   "outputs": [
    {
     "data": {
      "text/plain": [
       "False"
      ]
     },
     "execution_count": 16,
     "metadata": {},
     "output_type": "execute_result"
    }
   ],
   "source": [
    "#An isogram is a word that has no duplicate letters. Create a function that takes a string and \n",
    "#returns either True or False depending on whether or not it's an \"isogram\".\n",
    "def is_isogram(string):\n",
    "    a = set(string.lower())\n",
    "    if len(a) == len(string):\n",
    "        return True\n",
    "    else:\n",
    "        return False\n",
    "    \n",
    "    \n",
    "is_isogram(\"Consecutive\")\n"
   ]
  },
  {
   "cell_type": "code",
   "execution_count": 20,
   "metadata": {},
   "outputs": [
    {
     "data": {
      "text/plain": [
       "True"
      ]
     },
     "execution_count": 20,
     "metadata": {},
     "output_type": "execute_result"
    }
   ],
   "source": [
    "#Create a function that takes a string and returns True or False, depending on whether \n",
    "#the characters are in order or not.\n",
    "\n",
    "def is_in_order(string):\n",
    "    sort = ''.join(sorted(string))\n",
    "    if sort == string:\n",
    "        return True\n",
    "    else:\n",
    "        return False\n",
    "\n",
    "is_in_order(\"xyzz\")"
   ]
  },
  {
   "cell_type": "code",
   "execution_count": null,
   "metadata": {},
   "outputs": [],
   "source": []
  }
 ],
 "metadata": {
  "kernelspec": {
   "display_name": "Python 3",
   "language": "python",
   "name": "python3"
  },
  "language_info": {
   "codemirror_mode": {
    "name": "ipython",
    "version": 3
   },
   "file_extension": ".py",
   "mimetype": "text/x-python",
   "name": "python",
   "nbconvert_exporter": "python",
   "pygments_lexer": "ipython3",
   "version": "3.8.5"
  }
 },
 "nbformat": 4,
 "nbformat_minor": 4
}
