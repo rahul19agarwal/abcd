{
 "cells": [
  {
   "cell_type": "code",
   "execution_count": null,
   "metadata": {},
   "outputs": [],
   "source": []
  },
  {
   "cell_type": "code",
   "execution_count": 7,
   "metadata": {},
   "outputs": [
    {
     "data": {
      "text/plain": [
       "[0, 7, 14, 21, 28, 35, 42, 49, 56, 63]"
      ]
     },
     "execution_count": 7,
     "metadata": {},
     "output_type": "execute_result"
    }
   ],
   "source": [
    "#Define a class with a generator which can iterate the numbers, which are divisible by \n",
    "  #7, between a given range 0 and n.\n",
    "    \n",
    "class pref:\n",
    "    def __init__(self,num):\n",
    "        self.num = num\n",
    "    def gene(self,val):\n",
    "        for i in range(val):\n",
    "            if i % 7 ==0:\n",
    "                yield i\n",
    "    def gene_range(self):\n",
    "        val_list = []\n",
    "        for i in self.gene(self.num):  \n",
    "            val_list.append(i)\n",
    "        return val_list\n",
    "\n",
    "a = pref(70)\n",
    "a.gene_range()"
   ]
  },
  {
   "cell_type": "code",
   "execution_count": 11,
   "metadata": {},
   "outputs": [
    {
     "name": "stdout",
     "output_type": "stream",
     "text": [
      "{'a': 1, 'and': 1, 'assignment': 2, 'is': 1, 'python': 2, 'read': 1, 'this': 1}\n"
     ]
    }
   ],
   "source": [
    "#Write a program to compute the frequency of the words from the input. The output\n",
    "#should output after sorting the key alphanumerically.\n",
    "\n",
    "string = \"this is a python assignment and read python assignment\"\n",
    "string = string.split(' ')\n",
    "data_dict = {}\n",
    "for i in string:\n",
    "    i = i.lower()\n",
    "    if i in data_dict:\n",
    "        data_dict[i] +=1\n",
    "    else:\n",
    "        data_dict[i] = 1\n",
    "order_dictionary = dict(sorted(data_dict.items(),key = lambda item:item[0]))\n",
    "print (order_dictionary)"
   ]
  },
  {
   "cell_type": "code",
   "execution_count": 14,
   "metadata": {},
   "outputs": [
    {
     "name": "stdout",
     "output_type": "stream",
     "text": [
      "Male\n",
      "Female\n"
     ]
    }
   ],
   "source": [
    "#Define a class Person and its two child classes: Male and Female. All classes have a\n",
    "#method \"getGender\" which can print \"Male\" for Male class and \"Female\" for Female\n",
    "#class.\n",
    "\n",
    "\n",
    "class Person:\n",
    "    def __init__(self,*args):\n",
    "        self.person = ''\n",
    "class Male(Person):\n",
    "    def __init__(self,*args):\n",
    "        super(Male,self).__init__(*args)\n",
    "        self.person = 'Male'\n",
    "    def getGender(self):\n",
    "        return self.person\n",
    "    \n",
    "class Female(Person):\n",
    "    def __init__(self,*args):\n",
    "        super(Female,self).__init__(*args)\n",
    "        self.person = 'Female'\n",
    "    def getGender(self):\n",
    "        return self.person\n",
    "\n",
    "a = Male()\n",
    "b = Female()\n",
    "print (a.getGender())\n",
    "print (b.getGender())"
   ]
  },
  {
   "cell_type": "code",
   "execution_count": 18,
   "metadata": {},
   "outputs": [
    {
     "name": "stdout",
     "output_type": "stream",
     "text": [
      "I Play Hockey\n",
      "I Play Football\n",
      "I Love Hockey\n",
      "I Love Football\n",
      "You Play Hockey\n",
      "You Play Football\n",
      "You Love Hockey\n",
      "You Love Football\n"
     ]
    }
   ],
   "source": [
    "#Please write a program to generate all sentences where subject is in [\"I\", \"You\"] and\n",
    "#verb is in [\"Play\", \"Love\"] and the object is in [\"Hockey\",\"Football\"].\n",
    "sub = [\"I\", \"You\"]\n",
    "verb = [\"Play\", \"Love\"]\n",
    "obj = [\"Hockey\",\"Football\"]\n",
    "for i in sub:\n",
    "    for j in verb:\n",
    "        for k in obj:\n",
    "            print (i+' '+j+' '+k)"
   ]
  },
  {
   "cell_type": "code",
   "execution_count": 27,
   "metadata": {},
   "outputs": [
    {
     "name": "stdout",
     "output_type": "stream",
     "text": [
      "Compressed:  b'x\\x9c\\xcbH\\xcd\\xc9\\xc9W(\\xcf/\\xcaIQ\\xcc \\x82\\r\\x00\\xbd[\\x11\\xf5'\n",
      "Decompressed:  b'hello world!hello world!hello world!hello world!'\n"
     ]
    }
   ],
   "source": [
    "#Please write a program to compress and decompress the string \"hello world!hello\n",
    "#  world!hello world!hello world!\".\n",
    "\n",
    "import zlib\n",
    "text=\"hello world!hello world!hello world!hello world!\"\n",
    "comp=zlib.compress(text.encode())\n",
    "print(\"Compressed: \", comp)\n",
    "decomp=zlib.decompress(comp)\n",
    "print(\"Decompressed: \", decomp)"
   ]
  },
  {
   "cell_type": "code",
   "execution_count": 37,
   "metadata": {},
   "outputs": [
    {
     "name": "stdout",
     "output_type": "stream",
     "text": [
      "6\n"
     ]
    }
   ],
   "source": [
    "#Please write a binary search function which searches an item in a sorted list. The\n",
    "#function should return the index of element to be searched in the list.\n",
    "\n",
    "\n",
    "a = [2,3,4,5,6,7,8,9,10]\n",
    "def get_index(num_list,low,high,rt_ind):\n",
    "    median_val = int((high+low)/2)\n",
    "    #print (num_list[median_val])\n",
    "    if num_list[median_val] == rt_ind:\n",
    "        return median_val\n",
    "    else:\n",
    "        if num_list[median_val] > rt_ind:\n",
    "            return get_index(a,0,median_val-1,rt_ind)\n",
    "        else:\n",
    "            #print ('else')\n",
    "            return get_index(a,median_val+1,len(a)-1,rt_ind)\n",
    "        \n",
    "        \n",
    "return_ind = 8      \n",
    "b = get_index(a,0,len(a)-1,return_ind)\n",
    "print (b)"
   ]
  },
  {
   "cell_type": "code",
   "execution_count": null,
   "metadata": {},
   "outputs": [],
   "source": []
  }
 ],
 "metadata": {
  "kernelspec": {
   "display_name": "Python 3",
   "language": "python",
   "name": "python3"
  },
  "language_info": {
   "codemirror_mode": {
    "name": "ipython",
    "version": 3
   },
   "file_extension": ".py",
   "mimetype": "text/x-python",
   "name": "python",
   "nbconvert_exporter": "python",
   "pygments_lexer": "ipython3",
   "version": "3.8.5"
  }
 },
 "nbformat": 4,
 "nbformat_minor": 4
}
