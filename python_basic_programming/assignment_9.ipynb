{
 "cells": [
  {
   "cell_type": "code",
   "execution_count": 15,
   "metadata": {},
   "outputs": [
    {
     "data": {
      "text/plain": [
       "False"
      ]
     },
     "execution_count": 15,
     "metadata": {},
     "output_type": "execute_result"
    }
   ],
   "source": [
    "#1. Write a Python program to check if the given number is a Disarium Number?\n",
    "def order(n):\n",
    "    x = 0\n",
    "    while n!=0:\n",
    "        x = x+1\n",
    "        n = n//10\n",
    "    return x    \n",
    "def disarium(num):\n",
    "    val_cmp = num\n",
    "    order_val = order(num)\n",
    "    temp = 0\n",
    "    while num!=0:\n",
    "        vl = num%10\n",
    "        temp = temp+vl**order_val\n",
    "        \n",
    "        order_val = order_val-1\n",
    "        num = num//10\n",
    "    \n",
    "    return (temp==val_cmp)\n",
    "        \n",
    "    \n",
    "disarium(80)\n"
   ]
  },
  {
   "cell_type": "code",
   "execution_count": 22,
   "metadata": {},
   "outputs": [
    {
     "data": {
      "text/plain": [
       "[1, 2, 3, 4, 5, 6, 7, 8, 9, 89, 135, 175]"
      ]
     },
     "execution_count": 22,
     "metadata": {},
     "output_type": "execute_result"
    }
   ],
   "source": [
    "#2. Write a Python program to print all disarium numbers between 1 to 100?\n",
    "\n",
    "def order(n):\n",
    "    x = 0\n",
    "    while n!=0:\n",
    "        x = x+1\n",
    "        n = n//10\n",
    "    return x    \n",
    "def disarium():\n",
    "    final_lst = []\n",
    "    for i in range(1,200):\n",
    "        val_cmp = i\n",
    "        order_val = order(i)\n",
    "        temp = 0\n",
    "        while i!=0:\n",
    "            vl = i%10\n",
    "            temp = temp+vl**order_val\n",
    "        \n",
    "            order_val = order_val-1\n",
    "            i = i//10\n",
    "        if temp==val_cmp:\n",
    "            \n",
    "            final_lst.append(val_cmp)\n",
    "    return final_lst   \n",
    "    \n",
    "disarium()\n"
   ]
  },
  {
   "cell_type": "code",
   "execution_count": 47,
   "metadata": {},
   "outputs": [
    {
     "name": "stdout",
     "output_type": "stream",
     "text": [
      "1\n",
      "its is happy number\n"
     ]
    }
   ],
   "source": [
    "#3. Write a Python program to check if the given number is Happy Number?\n",
    "\n",
    "def order(n):\n",
    "    x = 0\n",
    "    while n!=0:\n",
    "        x = x+1\n",
    "        n = n//10\n",
    "    return x \n",
    "\n",
    "def order_num(num):\n",
    "    tmp = 0\n",
    "    tmp_val = num\n",
    "    while num != 0 :\n",
    "        vl = num%10\n",
    "        tmp = tmp+vl**2\n",
    "        num = num//10\n",
    "    if tmp != 1:\n",
    "        if order(tmp) == 1:\n",
    "            return (0)\n",
    "        else:\n",
    "            order_num(tmp)\n",
    "    return (1)\n",
    "n =23\n",
    "a = order_num(n)\n",
    "print (a)\n",
    "if a:\n",
    "    print ('its is happy number')\n",
    "else:\n",
    "    print ('its is not a happy number')\n",
    "        "
   ]
  },
  {
   "cell_type": "code",
   "execution_count": 45,
   "metadata": {},
   "outputs": [
    {
     "name": "stdout",
     "output_type": "stream",
     "text": [
      "[1, 4, 5, 6, 7, 8, 9, 10, 13, 14, 15, 16, 17, 18, 19, 23, 24, 25, 26, 27, 28, 29, 31, 32, 33, 34, 35, 36, 37, 38, 39, 40, 41, 42, 43, 44, 45, 46, 47, 48, 49, 50, 51, 52, 53, 54, 55, 56, 57, 58, 59, 60, 61, 62, 63, 64, 65, 66, 67, 68, 69, 70, 71, 72, 73, 74, 75, 76, 77, 78, 79, 80, 81, 82, 83, 84, 85, 86, 87, 88, 89, 90, 91, 92, 93, 94, 95, 96, 97, 98, 99]\n"
     ]
    }
   ],
   "source": [
    "#4. Write a Python program to print all happy numbers between 1 and 100?\n",
    "\n",
    "def order(n):\n",
    "    x = 0\n",
    "    while n!=0:\n",
    "        x = x+1\n",
    "        n = n//10\n",
    "    return x \n",
    "\n",
    "def calcu_stp(num):\n",
    "    tmp = 0\n",
    "    tmp_val = num\n",
    "    while num != 0 :\n",
    "        vl = num%10\n",
    "        tmp = tmp+vl**2\n",
    "        num = num//10\n",
    "    if tmp != 1:\n",
    "        if order(tmp) == 1:\n",
    "            return (0)\n",
    "        else:\n",
    "            calcu_stp(tmp)\n",
    "    return (1)\n",
    "\n",
    "def order_num():\n",
    "    nm_list = []\n",
    "    for i in range(1,100):\n",
    "        d=calcu_stp(i)\n",
    "        if d:\n",
    "            nm_list.append(i)\n",
    "    return nm_list\n",
    "        \n",
    "\n",
    "a = order_num()\n",
    "print (a)\n"
   ]
  },
  {
   "cell_type": "code",
   "execution_count": 7,
   "metadata": {},
   "outputs": [
    {
     "data": {
      "text/plain": [
       "False"
      ]
     },
     "execution_count": 7,
     "metadata": {},
     "output_type": "execute_result"
    }
   ],
   "source": [
    "#5. Write a Python program to determine whether the given number is a Harshad Number?\n",
    "\n",
    "def harsd(num):\n",
    "    tmp_store = num\n",
    "    tmp = 0\n",
    "    while num != 0 :\n",
    "        num = num%10\n",
    "        tmp = tmp+num\n",
    "        num = num //10\n",
    "    return(tmp_store%tmp == 0)\n",
    "        \n",
    "harsd(18)"
   ]
  },
  {
   "cell_type": "code",
   "execution_count": 8,
   "metadata": {},
   "outputs": [
    {
     "data": {
      "text/plain": [
       "[6, 12, 20, 30, 42, 56, 72, 90]"
      ]
     },
     "execution_count": 8,
     "metadata": {},
     "output_type": "execute_result"
    }
   ],
   "source": [
    "#6. Write a Python program to print all pronic numbers between 1 and 100?\n",
    "def call_pronic(i):\n",
    "    if i <= 2:\n",
    "        return False\n",
    "    else:\n",
    "        for j in range(1,i):\n",
    "            if j*(j+1) == i:\n",
    "                return True\n",
    "\n",
    "def pronic():\n",
    "    num_list = []\n",
    "    for i in range(1,100):\n",
    "        func_val = call_pronic(i)\n",
    "        if func_val:\n",
    "            num_list.append(i)\n",
    "    return num_list\n",
    "pronic()\n",
    "        \n"
   ]
  }
 ],
 "metadata": {
  "kernelspec": {
   "display_name": "Python 3",
   "language": "python",
   "name": "python3"
  },
  "language_info": {
   "codemirror_mode": {
    "name": "ipython",
    "version": 3
   },
   "file_extension": ".py",
   "mimetype": "text/x-python",
   "name": "python",
   "nbconvert_exporter": "python",
   "pygments_lexer": "ipython3",
   "version": "3.8.5"
  }
 },
 "nbformat": 4,
 "nbformat_minor": 4
}
