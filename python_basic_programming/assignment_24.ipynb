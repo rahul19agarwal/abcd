{
 "cells": [
  {
   "cell_type": "code",
   "execution_count": 3,
   "metadata": {},
   "outputs": [
    {
     "data": {
      "text/plain": [
       "[1, 2, 3]"
      ]
     },
     "execution_count": 3,
     "metadata": {},
     "output_type": "execute_result"
    }
   ],
   "source": [
    "\"\"\"\n",
    "Create a function that takes an integer and returns a list from 1 to the given number, where:\n",
    "If the number can be divided evenly by 4, amplify it by 10 (i.e. return 10 times the number).\n",
    "If the number cannot be divided evenly by 4, simply return the number.\n",
    "\n",
    "\"\"\"\n",
    "def amplify(val):\n",
    "    a = [i*10 if i%4 == 0 else i for i in range(1,val+1)]\n",
    "    return a\n",
    "\n",
    "amplify(3)"
   ]
  },
  {
   "cell_type": "code",
   "execution_count": 8,
   "metadata": {},
   "outputs": [
    {
     "data": {
      "text/plain": [
       "0.77"
      ]
     },
     "execution_count": 8,
     "metadata": {},
     "output_type": "execute_result"
    }
   ],
   "source": [
    "\"\"\"\n",
    "Create a function that takes a list of numbers and return the number that's unique.\n",
    "\"\"\"\n",
    "def unique(lt1):\n",
    "    data_dict = {}\n",
    "    for i in lt1:\n",
    "        if i in data_dict:\n",
    "            data_dict[i] +=1\n",
    "        else:\n",
    "            data_dict[i] = 1\n",
    "    return [key for key,value in data_dict.items() if value == 1][0]\n",
    "\n",
    "unique([0, 0, 0.77, 0, 0]) "
   ]
  },
  {
   "cell_type": "code",
   "execution_count": 12,
   "metadata": {},
   "outputs": [
    {
     "name": "stdout",
     "output_type": "stream",
     "text": [
      "379.94\n",
      "27.883200000000002\n"
     ]
    }
   ],
   "source": [
    "\"\"\"\n",
    "Your task is to create a Circle constructor that creates a circle with a radius provided by an argument. \n",
    "The circles constructed must have two getters getArea() (PIr^2) and getPerimeter() (2PI*r) which give both\n",
    "respective areas and perimeter (circumference).\n",
    "For help with this class, I have provided you with a Rectangle constructor which you can use as a base example.\n",
    "\n",
    "\"\"\"\n",
    "\n",
    "class Cirle:\n",
    "    def __init__(self,radius):\n",
    "        self.radius = radius\n",
    "    def getArea(self):\n",
    "        return 3.14*(self.radius**2)\n",
    "    def getPerimeter(self):\n",
    "        return 2*3.14*self.radius\n",
    "a = Cirle(11)\n",
    "print (a.getArea())\n",
    "b  = Cirle(4.44)\n",
    "print (b.getPerimeter())"
   ]
  },
  {
   "cell_type": "code",
   "execution_count": 19,
   "metadata": {},
   "outputs": [
    {
     "data": {
      "text/plain": [
       "dict_keys(['Apple', 'Google', 'Microsoft'])"
      ]
     },
     "execution_count": 19,
     "metadata": {},
     "output_type": "execute_result"
    }
   ],
   "source": [
    "\"\"\"\n",
    "Create a function that takes a list of strings and return a list, sorted from shortest to longest.\n",
    "\"\"\"\n",
    "\n",
    "def sort_by_length(lt1):\n",
    "    lt1 = dict((i,len(i)) for i in lt1)\n",
    "    a = dict(sorted(lt1.items(), key=lambda item: item[1]))\n",
    "    return a.keys()\n",
    "\n",
    "sort_by_length([\"Google\", \"Apple\", \"Microsoft\"])\n"
   ]
  },
  {
   "cell_type": "code",
   "execution_count": 23,
   "metadata": {},
   "outputs": [
    {
     "data": {
      "text/plain": [
       "True"
      ]
     },
     "execution_count": 23,
     "metadata": {},
     "output_type": "execute_result"
    }
   ],
   "source": [
    "\"\"\"\n",
    "Create a function that validates whether three given integers form a Pythagorean triplet. \n",
    "The sum of the squares of the two smallest integers must equal the square of the largest number to be validated.\n",
    "\"\"\"\n",
    "def is_triplet(a,b,c):\n",
    "    a = sorted([a,b,c])\n",
    "    a = a[0]**2 + a[1]**2 == a[2]**2\n",
    "    return a\n",
    "\n",
    "is_triplet(13, 5, 12)"
   ]
  }
 ],
 "metadata": {
  "kernelspec": {
   "display_name": "Python 3",
   "language": "python",
   "name": "python3"
  },
  "language_info": {
   "codemirror_mode": {
    "name": "ipython",
    "version": 3
   },
   "file_extension": ".py",
   "mimetype": "text/x-python",
   "name": "python",
   "nbconvert_exporter": "python",
   "pygments_lexer": "ipython3",
   "version": "3.8.5"
  }
 },
 "nbformat": 4,
 "nbformat_minor": 4
}
