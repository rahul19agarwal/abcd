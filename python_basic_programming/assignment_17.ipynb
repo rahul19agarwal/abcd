{
 "cells": [
  {
   "cell_type": "code",
   "execution_count": 4,
   "metadata": {},
   "outputs": [
    {
     "data": {
      "text/plain": [
       "15"
      ]
     },
     "execution_count": 4,
     "metadata": {},
     "output_type": "execute_result"
    }
   ],
   "source": [
    "#Create a function that takes three arguments a, b, c and returns the sum of the\n",
    "#numbers that are evenly divided by c from the range a, b inclusive.\n",
    "\n",
    "def evenly_divisible(a,b,c):\n",
    "    val_list = []\n",
    "    for i in range(a,b+1):\n",
    "        if i % c == 0:\n",
    "            val_list.append(i)\n",
    "    return sum(val_list)\n",
    "\n",
    "evenly_divisible(1,10,5)"
   ]
  },
  {
   "cell_type": "code",
   "execution_count": 5,
   "metadata": {},
   "outputs": [
    {
     "data": {
      "text/plain": [
       "True"
      ]
     },
     "execution_count": 5,
     "metadata": {},
     "output_type": "execute_result"
    }
   ],
   "source": [
    "#Create a function that returns True if a given inequality expression is correct and\n",
    "#False otherwise.\n",
    "\n",
    "def correct_signs(a):\n",
    "    return (a)\n",
    "correct_signs(3<7<11)"
   ]
  },
  {
   "cell_type": "code",
   "execution_count": 7,
   "metadata": {},
   "outputs": [
    {
     "data": {
      "text/plain": [
       "'m#nn# m##s#'"
      ]
     },
     "execution_count": 7,
     "metadata": {},
     "output_type": "execute_result"
    }
   ],
   "source": [
    "#Create a function that replaces all the vowels in a string with a specified character.\n",
    "\n",
    "def replaceVowelsWithK(test_str, K):\n",
    "  \n",
    "    vowels = 'AEIOUaeiou'\n",
    "  \n",
    "    for ele in vowels:\n",
    "  \n",
    "        test_str = test_str.replace(ele, K)\n",
    "  \n",
    "    return test_str\n",
    "string_val = 'minni mouse'\n",
    "\n",
    "replaceVowelsWithK(string_val,'#')"
   ]
  },
  {
   "cell_type": "code",
   "execution_count": null,
   "metadata": {},
   "outputs": [],
   "source": []
  },
  {
   "cell_type": "code",
   "execution_count": 10,
   "metadata": {},
   "outputs": [
    {
     "data": {
      "text/plain": [
       "24"
      ]
     },
     "execution_count": 10,
     "metadata": {},
     "output_type": "execute_result"
    }
   ],
   "source": [
    "#Write a function that calculates the factorial of a number recursively.\n",
    "\n",
    "def recrusion(val):\n",
    "    if val<=1:\n",
    "        return val\n",
    "    else:\n",
    "        return val*recrusion(val-1)\n",
    "    \n",
    "recrusion(4)"
   ]
  },
  {
   "cell_type": "code",
   "execution_count": 11,
   "metadata": {},
   "outputs": [
    {
     "data": {
      "text/plain": [
       "2"
      ]
     },
     "execution_count": 11,
     "metadata": {},
     "output_type": "execute_result"
    }
   ],
   "source": [
    "#Hamming distance is the number of characters that differ between two strings.\n",
    "def calculate_dis(st1,st2):\n",
    "    tmp = 0\n",
    "    for i in range(len(st1)):\n",
    "        if st1[i] != st2[i]:\n",
    "            tmp += 1\n",
    "    return tmp\n",
    "calculate_dis('rahul','rauhl')"
   ]
  },
  {
   "cell_type": "code",
   "execution_count": null,
   "metadata": {},
   "outputs": [],
   "source": []
  }
 ],
 "metadata": {
  "kernelspec": {
   "display_name": "Python 3",
   "language": "python",
   "name": "python3"
  },
  "language_info": {
   "codemirror_mode": {
    "name": "ipython",
    "version": 3
   },
   "file_extension": ".py",
   "mimetype": "text/x-python",
   "name": "python",
   "nbconvert_exporter": "python",
   "pygments_lexer": "ipython3",
   "version": "3.8.5"
  }
 },
 "nbformat": 4,
 "nbformat_minor": 4
}
