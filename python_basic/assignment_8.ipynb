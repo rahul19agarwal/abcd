{
 "cells": [
  {
   "cell_type": "markdown",
   "metadata": {},
   "source": [
    "1. Is the Python Standard Library included with PyInputPlus?\n",
    "\n",
    "Solution:\n",
    "\n",
    "No, we need to install this via library using the mention command pip install PyInputPlus\n",
    "as by default python 2 and 3 support input() and raw_input() as inbuild in standard python library"
   ]
  },
  {
   "cell_type": "markdown",
   "metadata": {},
   "source": [
    "2. Why is PyInputPlus commonly imported with import pyinputplus as pypi?\n",
    "\n",
    "Soltuion:\n",
    "\n",
    "Its just a notation not compulsory to import as pypi as we can also use import pyinputplus as input_plus\n",
    "Also just for name convention py- python p-plus i-input"
   ]
  },
  {
   "cell_type": "markdown",
   "metadata": {},
   "source": [
    "3. How do you distinguish between inputInt() and inputFloat()?\n",
    "\n",
    "Solution:\n",
    "\n",
    "They are the modules available in PyInputPlus\n",
    "inputInt - accept only integer value\n",
    "inputFloat - accept float value (if int is given then it convert int to float)\n",
    "\n"
   ]
  },
  {
   "cell_type": "markdown",
   "metadata": {},
   "source": [
    "4. Using PyInputPlus, how do you ensure that the user enters a whole number between 0 and 99?\n",
    "\n",
    "Solution:\n",
    "result = pyip.inputNum(min=0, max=99)"
   ]
  },
  {
   "cell_type": "markdown",
   "metadata": {},
   "source": [
    "5. What is transferred to the keyword arguments allowRegexes and blockRegexes?\n",
    "\n",
    "Solution:\n",
    "\n",
    "allowRegexes: We can set a list of regex strings to the allowRegexes parameter to the PyInputPlus functions like \n",
    "           entering a phone number or email id\n",
    "\n",
    "\n",
    "blockRegexes : We can set a list of regex strings to the blockRegexes parameter to the PyInputPlus functions like dont allow alpha numeric characters in name "
   ]
  },
  {
   "cell_type": "markdown",
   "metadata": {},
   "source": [
    "6. If a blank input is entered three times, what does inputStr(limit=3) do?\n",
    "\n",
    "Solution:\n",
    "\n",
    "it gives : pyinputplus.RetryLimitException\n",
    "\n"
   ]
  },
  {
   "cell_type": "markdown",
   "metadata": {},
   "source": [
    "7. If blank input is entered three times, what does inputStr(limit=3, default=&#39;hello&#39;) do?\n",
    "\n",
    "Solution:\n",
    "After three times it gives hello as default input\n"
   ]
  }
 ],
 "metadata": {
  "kernelspec": {
   "display_name": "Python 3",
   "language": "python",
   "name": "python3"
  },
  "language_info": {
   "codemirror_mode": {
    "name": "ipython",
    "version": 3
   },
   "file_extension": ".py",
   "mimetype": "text/x-python",
   "name": "python",
   "nbconvert_exporter": "python",
   "pygments_lexer": "ipython3",
   "version": "3.8.5"
  }
 },
 "nbformat": 4,
 "nbformat_minor": 4
}
