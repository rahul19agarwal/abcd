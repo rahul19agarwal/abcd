{
 "cells": [
  {
   "cell_type": "markdown",
   "metadata": {},
   "source": [
    "1. What are the benefits of including roles in the programmes?\n",
    "\n",
    "Solution:\n",
    " \n",
    "Benefits are it describes the functionality of the programm in short before reading the code. Benefits are if new person reading the logic expression (code) the roles can help us to understand the entire logic in short"
   ]
  },
  {
   "cell_type": "markdown",
   "metadata": {},
   "source": [
    "2. When does the code in a function run: when its specified or when its called?\n",
    "\n",
    "Solution:\n",
    "code in the function run when it is called\n"
   ]
  },
  {
   "cell_type": "markdown",
   "metadata": {},
   "source": [
    "3. What statement causes a feature to be created?\n",
    "\n",
    "Solution:\n",
    "\n",
    "''def'' function help us to create the new features in python like define a function in which new features or expression are been added which give us the required output\n",
    "for example:\n",
    "\n",
    "\n",
    "def add(x,y):\n",
    "    return x+y\n",
    "\n",
    "add(2,4)\n",
    "output = 6\n",
    "\n",
    "--here function add is the addition feature that python allow us to build it with the help of 'def' funcion"
   ]
  },
  {
   "cell_type": "markdown",
   "metadata": {},
   "source": [
    "4. What is the distinction between a function and a call to a function?\n",
    "\n",
    "Solution:\n",
    "\n",
    "function: it signifies the addition features that we have created. Here it do not execute the code written inside the function.\n",
    "\n",
    "call to a function : It help us to use the feature written inside the function. As function do not excute the code itself it needed to be called so call to a function help us to run the written code ie to use the feature written inside the function"
   ]
  },
  {
   "cell_type": "markdown",
   "metadata": {},
   "source": [
    "5. In a Python application, how many global scopes are there? How many local scopes are there?\n",
    "\n",
    "Solution:\n",
    "\n",
    "local scope - 3 scope are present\n",
    "global scope- 1 scope is present"
   ]
  },
  {
   "cell_type": "markdown",
   "metadata": {},
   "source": [
    "6. When a function call returns, what happens to variables in the local scope?\n",
    "\n",
    "Solution:\n",
    "It become undefine"
   ]
  },
  {
   "cell_type": "markdown",
   "metadata": {},
   "source": [
    "7) What is the concept of a return value? Is it possible to have a return value in an expression?\n",
    "\n",
    "Solution:\n",
    "Return value help us to return the value which is not None and on which further more operation can be perform\n",
    "If a function do not have return value then it will return NoneType further on which we cannot perform any operation because its a blank value. \n",
    "\n",
    "Yes we can return value in an expression\n",
    "\n",
    "eg\n",
    "\n",
    "def add(x,y):\n",
    "    return x+y\n",
    "call_fun1 = add(3,4)\n",
    "\n",
    "print (call_fun1)\n",
    "def sub(x,y):\n",
    "    b = x-y\n",
    "\n",
    "call_fun2 = sub(4,3)\n",
    "print (call_fun2)\n",
    "\n",
    "output: \n",
    "7\n",
    "None"
   ]
  },
  {
   "cell_type": "markdown",
   "metadata": {},
   "source": [
    "8. What is the return value of a call to a function that does not have a return statement?\n",
    "Solution:\n",
    "\n",
    "None is the return value\n",
    "\n",
    "eg\n",
    "\n",
    "def sub(x,y):\n",
    "    b = x-y\n",
    "\n",
    "call_fun2 = sub(4,3)\n",
    "print (call_fun2)\n",
    "\n",
    "output:\n",
    "None"
   ]
  },
  {
   "cell_type": "markdown",
   "metadata": {},
   "source": [
    "9. How do you make a function variable refer to the global variable?\n",
    "\n",
    "Solution:\n",
    "\n",
    "Declare it as a global inside function\n",
    "\n",
    "eg\n",
    "\n",
    "*/ if x declare global inside add function\n",
    "\n",
    "x = ''\n",
    "\n",
    "def add(y):\n",
    "    global x\n",
    "    x=5\n",
    "    add = x+y\n",
    "    return add\n",
    "    \n",
    "add(5)\n",
    "print (x)\n",
    "output:\n",
    "print(x) = 5"
   ]
  },
  {
   "cell_type": "markdown",
   "metadata": {},
   "source": [
    "10. What data form does None belong to?\n",
    "\n",
    "Solution:\n",
    "It means value is null and it belongs to NoneType"
   ]
  },
  {
   "cell_type": "markdown",
   "metadata": {},
   "source": [
    "11. What does the sentence import areallyourpetsnamederic do?\n",
    "\n",
    "Solution:\n",
    "\n",
    "ModuleNotFoundError: No module named 'areallyourpetsnamederic'\n"
   ]
  },
  {
   "cell_type": "markdown",
   "metadata": {},
   "source": [
    "12. If you had a bacon() feature in a spam module, what would you call it after importing spam?\n",
    "\n",
    "solution:\n",
    "\n",
    "import spam\n",
    "\n",
    "a = spam.bacon()"
   ]
  },
  {
   "cell_type": "markdown",
   "metadata": {},
   "source": [
    "13. What can you do to save a programme from crashing if it encounters an error?\n",
    "\n",
    "Solution:\n",
    "\n",
    "Use try and Exception "
   ]
  },
  {
   "cell_type": "markdown",
   "metadata": {},
   "source": [
    "14. What is the purpose of the try clause? What is the purpose of the except clause?\n",
    "\n",
    "Solution:\n",
    "\n",
    "Purpose for try clause is to run the specify code and purpose of except clause is if a try block face any error it will jump to except block it will not crash due to try block got the error and except block catch the error and we can handle the error in except block and avoid crashing"
   ]
  }
 ],
 "metadata": {
  "kernelspec": {
   "display_name": "Python 3",
   "language": "python",
   "name": "python3"
  },
  "language_info": {
   "codemirror_mode": {
    "name": "ipython",
    "version": 3
   },
   "file_extension": ".py",
   "mimetype": "text/x-python",
   "name": "python",
   "nbconvert_exporter": "python",
   "pygments_lexer": "ipython3",
   "version": "3.8.5"
  }
 },
 "nbformat": 4,
 "nbformat_minor": 4
}
