{
 "cells": [
  {
   "cell_type": "markdown",
   "metadata": {},
   "source": [
    "1. How do you distinguish between shutil.copy() and shutil.copytree()?\n",
    "\n",
    "Solution:\n",
    "\n",
    "shutil.copy() method in Python is used to copy the content of source file to destination file or directory. It also preserves the file’s permission mode but other metadata of the file like the file’s creation and modification times is not preserved.\n",
    "Source must represent a file but destination can be a file or a directory. If the destination is a directory then the file will be copied into destination using the base filename from source. Also, destination must be writable. If destination is a file and already exists then it will be replaced with the source file otherwise a new file will be created.\n",
    "\n",
    "shutil.copytree() method recursively copies an entire directory tree rooted at source (src) to the destination directory. The destination directory, named by (dst) must not already exist. It will be created during copying"
   ]
  },
  {
   "cell_type": "markdown",
   "metadata": {},
   "source": [
    "2. What function is used to rename files??\n",
    "\n",
    "Solution:\n",
    "os function is used eg:\n",
    "\n",
    "os.rename(src, dst)"
   ]
  },
  {
   "cell_type": "markdown",
   "metadata": {},
   "source": [
    "3. What is the difference between the delete functions in the send2trash and shutil modules?\n",
    "\n",
    "Solution:\n",
    "\n",
    "send2trash : Using send2trash, we can send files to the Trash or Recycle Bin instead of permanently deleting them. \n",
    "\n",
    "shutil modules: shutil.rmtree() to recursively delete a directory and all of it’s contents."
   ]
  },
  {
   "cell_type": "markdown",
   "metadata": {},
   "source": [
    "4. ZipFile objects have a close() method just like File objects’ close() method. What ZipFile method is\n",
    "   equivalent to File objects’ open() method?\n",
    "   \n",
    "   Solution:\n",
    "   Yes"
   ]
  },
  {
   "cell_type": "markdown",
   "metadata": {},
   "source": [
    "5. Create a programme that searches a folder tree for files with a certain file extension (such as .pdf\n",
    "   or .jpg). Copy these files from whatever location they are in to a new folder.\n",
    "\n",
    "Solution:\n",
    "\n",
    "import os\n",
    "import shutil\n",
    "for root, dir, files in os.walk('/home/Desktop/pdf/'):\n",
    "      for file in files:  \n",
    "        if file.endswith('.pdf'): \n",
    "            print (root+str(file))\n",
    "            a = root+str(file)\n",
    "            shutil.copy(str(a),'/home/Desktop/demo/')\n",
    "        elif file.endswith('.jpg'):\n",
    "            print (root+str(file))\n",
    "            a = root+str(file)\n",
    "            shutil.copy(str(a),'/home/Desktop/demo/')\n"
   ]
  },
  {
   "cell_type": "code",
   "execution_count": null,
   "metadata": {},
   "outputs": [],
   "source": []
  }
 ],
 "metadata": {
  "kernelspec": {
   "display_name": "Python 3",
   "language": "python",
   "name": "python3"
  },
  "language_info": {
   "codemirror_mode": {
    "name": "ipython",
    "version": 3
   },
   "file_extension": ".py",
   "mimetype": "text/x-python",
   "name": "python",
   "nbconvert_exporter": "python",
   "pygments_lexer": "ipython3",
   "version": "3.8.5"
  }
 },
 "nbformat": 4,
 "nbformat_minor": 4
}
