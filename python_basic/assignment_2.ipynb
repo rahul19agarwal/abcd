{
 "cells": [
  {
   "cell_type": "markdown",
   "metadata": {},
   "source": [
    "1. What are the Boolean data type's two values? How do you go about writing them?\n",
    "\n",
    "Solution:\n",
    "Boolean data types : True and False\n",
    "How do we write them : True and False\n"
   ]
  },
  {
   "cell_type": "markdown",
   "metadata": {},
   "source": [
    "2. What are the three different types of Boolean operators?\n",
    "\n",
    "Solution:\n",
    "AND, OR, NOT"
   ]
  },
  {
   "cell_type": "markdown",
   "metadata": {},
   "source": [
    "3. Make a list of each Boolean operator's truth tables (i.e. every possible combination of Boolean values for the operator and what it evaluate ).\n",
    "\n",
    "Solution:\n",
    "\n",
    "AND OPERATOR: [[0,0],\n",
    "               [0,1],\n",
    "               [1,0],\n",
    "               [1,1]] and evaluates to [0,0,0,1]\n",
    "               \n",
    "OR OPERATOR: [0,0],\n",
    "               [0,1],\n",
    "               [1,0],\n",
    "               [1,1]] and evaluates to [0,1,1,1]\n",
    "               \n",
    "                x  y\n",
    "NOT OPERATOR : [0,0],\n",
    "               [0,1],\n",
    "               [1,0],\n",
    "               [1,1]] and evaluates to [~x] = [1,1,0,0]"
   ]
  },
  {
   "cell_type": "markdown",
   "metadata": {},
   "source": [
    "4) What are the values of the following expressions?\n",
    "\n",
    "(5 > 4) and (3 == 5)\n",
    "not (5 > 4)\n",
    "(5 > 4) or (3 == 5)\n",
    "not ((5 > 4) or (3 == 5))\n",
    "(True and True) and (True == False)\n",
    "(not False) or (not True)\n",
    "\n",
    "solution:\n",
    "1) (5 > 4) and (3 == 5)  = False\n",
    "\n",
    "2) not (5 > 4) = False\n",
    "\n",
    "3) (5 > 4) or (3 == 5) = True\n",
    "\n",
    "4) not ((5 > 4) or (3 == 5)) = False\n",
    "\n",
    "5) (True and True) and (True == False) = False\n",
    "\n",
    "6) (not False) or (not True) = True\n",
    "\n"
   ]
  },
  {
   "cell_type": "markdown",
   "metadata": {},
   "source": [
    "5. What are the six different types of reference operators?\n",
    "\n",
    "Solution:\n",
    "1) Airthmetic operators\n",
    "2) assignment opeartors\n",
    "3) Relational operator\n",
    "4) Boolean operators\n",
    "5) Conditional operator\n",
    "6) identity operator\n"
   ]
  },
  {
   "cell_type": "markdown",
   "metadata": {},
   "source": [
    "6. How do you tell the difference between the equal to and assignment operators?\n",
    "\n",
    "Solution:\n",
    "1) equal to is a kind of operator to check if value is equal or not and it return True if it is equal else return False\n",
    "2) assignment operator is use to assign a value to a variable which can be used further for different operations."
   ]
  },
  {
   "cell_type": "markdown",
   "metadata": {},
   "source": [
    "7. Describe a condition and when you would use one.\n",
    "\n",
    "Solution:\n",
    "\n",
    "count = 5\n",
    "if count == 5:\n",
    "    print ('value is same')\n",
    "else:\n",
    "    print ('value is not same')\n"
   ]
  },
  {
   "cell_type": "markdown",
   "metadata": {},
   "source": [
    "8) Recognize the following three blocks in this code:\n",
    "\n",
    "spam = 0\n",
    "if spam == 10:\n",
    "    print('eggs')\n",
    "    if spam > 5:\n",
    "        print('bacon')\n",
    "    else:\n",
    "        print('ham')\n",
    "    print('spam')\n",
    "print('spam')\n",
    "\n",
    "solution:\n",
    "It will print just spam as spam not equal to 10 because it is been assign as 0"
   ]
  },
  {
   "cell_type": "markdown",
   "metadata": {},
   "source": [
    "9) Create a programme that prints. If 1 is stored in spam, prints Hello; \n",
    "   if 2 is stored in spam, prints Howdy; and if 3 is stored in spam, prints Salutations! \n",
    "   if there's something else in spam.\n",
    "\n",
    "solution:\n",
    "\n",
    "spam = 1\n",
    "if spam == 1:\n",
    "    print('Hello')\n",
    "elif spam == 2:\n",
    "    print('Howdy')\n",
    "elif spam == 3:\n",
    "    print('Salutations!')\n",
    "else:\n",
    "    print('something else in spam')"
   ]
  },
  {
   "cell_type": "markdown",
   "metadata": {},
   "source": [
    "10) If your programme is stuck in an endless loop, what keys can you press?\n",
    "\n",
    "Solution:\n",
    "\n",
    "ctrl + c "
   ]
  },
  {
   "cell_type": "markdown",
   "metadata": {},
   "source": [
    "11) How can you tell the difference between break and continue?\n",
    "\n",
    "Solution:\n",
    "\n",
    "break : consider a for loop running and in between we write a break statement then the execution will come out of loop and will never enter into loop again\n",
    "\n",
    "continue: if we write a continue statement then it will stop the further execution for that moment and again the control goes to for loop statement"
   ]
  },
  {
   "cell_type": "markdown",
   "metadata": {},
   "source": [
    "12) In a for loop, what is the difference between range(10), range(0, 10), and range(0, 10, 1)?\n",
    "\n",
    "solution:\n",
    "\n",
    "all three will give the same output if we print the list\n",
    "eg\n",
    "\n",
    "range(10) print [0, 1, 2, 3, 4, 5, 6, 7, 8, 9]\n",
    "range(0,10) print [0, 1, 2, 3, 4, 5, 6, 7, 8, 9]\n",
    "range(0,10,1) print [0, 1, 2, 3, 4, 5, 6, 7, 8, 9]"
   ]
  },
  {
   "cell_type": "markdown",
   "metadata": {},
   "source": [
    "13) Using a for loop, write a short programme that prints the numbers 1 to 10 Then, using a while loop, create an identical programme that prints the numbers 1 to 10.\n",
    "\n",
    "Solution:\n",
    "for loop:\n",
    "\n",
    "for i in range(0,10):\n",
    "    i = i+1\n",
    "    print (i)\n",
    "    \n",
    "while loop:\n",
    "\n",
    "count = 1\n",
    "while count <= 10:\n",
    "    print (count)\n",
    "    count = count+1\n"
   ]
  },
  {
   "cell_type": "markdown",
   "metadata": {},
   "source": [
    "14) If you had a bacon() function within a spam module, what would you call it after importing spam?\n",
    "Solution:\n",
    "\n",
    "Yes, first import the spam module(python file) then call that function bacon()"
   ]
  },
  {
   "cell_type": "code",
   "execution_count": null,
   "metadata": {},
   "outputs": [],
   "source": []
  }
 ],
 "metadata": {
  "kernelspec": {
   "display_name": "Python 3",
   "language": "python",
   "name": "python3"
  },
  "language_info": {
   "codemirror_mode": {
    "name": "ipython",
    "version": 3
   },
   "file_extension": ".py",
   "mimetype": "text/x-python",
   "name": "python",
   "nbconvert_exporter": "python",
   "pygments_lexer": "ipython3",
   "version": "3.8.5"
  }
 },
 "nbformat": 4,
 "nbformat_minor": 4
}
