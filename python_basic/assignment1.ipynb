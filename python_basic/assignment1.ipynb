{
 "cells": [
  {
   "cell_type": "markdown",
   "metadata": {},
   "source": [
    "1. What are the differences between operators and values in the following?\n",
    "*\n",
    "hello\n",
    "-87.8\n",
    "-\n",
    "/\n",
    "+\n",
    "6\n",
    "\n",
    "Solution:\n",
    "\n",
    "1) Operators are used to perform sort of operation(eg mathematical etc) on values.\n",
    "2) Values are the mathematical or string expression on which operators perform operations\n"
   ]
  },
  {
   "cell_type": "markdown",
   "metadata": {},
   "source": [
    "2. What is the difference between string and variable?\n",
    "spam\n",
    "'spam'\n",
    "\n",
    "Solution:\n",
    "\n",
    "1) String ('spam') is value on which mathematical and logical oprations can be perform\n",
    "2) varaible (spam) is use for storing the values whether it is integer, string, float or any expression. It can carry that value further for different operation."
   ]
  },
  {
   "cell_type": "markdown",
   "metadata": {},
   "source": [
    "3. Describe three different data forms.\n",
    "\n",
    "Solution:\n",
    " Integer, string, boolean\n",
    " \n",
    " "
   ]
  },
  {
   "cell_type": "markdown",
   "metadata": {},
   "source": [
    "4) What makes up an expression? What are the functions of all expressions?\n",
    "\n",
    "Solution:\n",
    "\n",
    "1) Expression is the set of instruction contain numeric, string , boolean values along with the various operators which lead to perform a particular task.\n",
    "\n",
    "2) Functions of all expressions is to perform or execute the sets of instruction having different operators and values and logcial statements given to get the singal output or the set of output required."
   ]
  },
  {
   "cell_type": "markdown",
   "metadata": {},
   "source": [
    "5) In this chapter, assignment statements such as spam = 10 were added. What's the\n",
    "    difference between a declaration and an expression?\n",
    "    \n",
    "Solution:\n",
    "\n",
    "1) Declaration: Here variable spam is been declare a value which is 10 which can be used for any operation required\n",
    "2) expression : Here Expression uses variable and the various operators that perform operations. Therefore here variable spam can be used for solving various expression ie given set of instructions for solving problem statment\n"
   ]
  },
  {
   "cell_type": "markdown",
   "metadata": {},
   "source": [
    "6) After running the following code, what does the variable bacon contain?\n",
    "bacon = 22\n",
    "bacon + 1\n",
    "\n",
    "Solution: \n",
    " 23"
   ]
  },
  {
   "cell_type": "markdown",
   "metadata": {},
   "source": [
    "7. What should the values of the following two terms be?\n",
    "\n",
    "'spam' + 'spamspam'\n",
    "spam * 3\n",
    "\n",
    "Solution:\n",
    "'spamspamspam'\n",
    "'spamspamspam'\n"
   ]
  },
  {
   "cell_type": "markdown",
   "metadata": {},
   "source": [
    "8) Why is it that eggs is a true variable name but 100 is not?\n",
    "\n",
    "Solution:\n",
    "\n",
    "eggs is a alphabetic expression therefore can be used as variable\n",
    "100 is numeric expression which cannot be consider as a variable"
   ]
  },
  {
   "cell_type": "markdown",
   "metadata": {},
   "source": [
    "9) Which of the following three functions may be used to convert a value to an integer, a\n",
    "    floating-point number, or a string?\n",
    "    \n",
    "Solution:\n",
    "1) to convert to integer use int()\n",
    "2) to convert to floating-point use float()\n",
    "3) to convert to string use str()"
   ]
  },
  {
   "cell_type": "markdown",
   "metadata": {},
   "source": [
    "10) What is the error caused by this expression? What would you do about it?\n",
    "\n",
    "'I have eaten' + 99 + 'burritos.'\n",
    "> TypeError: can only concatenate str (not \"int\") to str\n",
    "\n",
    "Solution:\n",
    "    Error occur as we cannot concat or add string with integer. Here we need to convert the integer value to string to remove the error\n",
    "\n",
    "Example:\n",
    "    'I have eaten' + str(99)+ 'burritos.'\n",
    "    > 'I have eaten99burritos.'"
   ]
  }
 ],
 "metadata": {
  "kernelspec": {
   "display_name": "Python 3",
   "language": "python",
   "name": "python3"
  },
  "language_info": {
   "codemirror_mode": {
    "name": "ipython",
    "version": 3
   },
   "file_extension": ".py",
   "mimetype": "text/x-python",
   "name": "python",
   "nbconvert_exporter": "python",
   "pygments_lexer": "ipython3",
   "version": "3.8.5"
  }
 },
 "nbformat": 4,
 "nbformat_minor": 4
}
