{
 "cells": [
  {
   "cell_type": "markdown",
   "metadata": {},
   "source": [
    "1. What does an empty dictionarys code look like?\n",
    "\n",
    "Solution:\n",
    "\n",
    "a = {}"
   ]
  },
  {
   "cell_type": "markdown",
   "metadata": {},
   "source": [
    "2. What is the value of a dictionary value with the key 'foo' and the value 42?\n",
    "\n",
    "Solution:\n",
    "a = {'foo':42}\n",
    "a.values()\n",
    "dict_values([42])\n"
   ]
  },
  {
   "cell_type": "markdown",
   "metadata": {},
   "source": [
    "3. What is the most significant distinction between a dictionary and a list?\n",
    "\n",
    "\n",
    "Solution:\n",
    "\n",
    "In list we store data direct in form of singal value like [1,2,3]. Here we can access the value with the help of indexs.\n",
    "\n",
    "In dictionary we store data in form of key value pairs like {'key1':1,'key2':2}. Here we can access the value with the help of keys values not indexs"
   ]
  },
  {
   "cell_type": "markdown",
   "metadata": {},
   "source": [
    "4. What happens if spam['foo'] is 'bar': 100 and you try to access it?\n",
    "\n",
    "Solution:\n",
    ">>> spam = {'foo':{'bar':100}}\n",
    ">>> spam['foo']\n",
    "{'bar': 100}\n"
   ]
  },
  {
   "cell_type": "markdown",
   "metadata": {},
   "source": [
    "5. What is the difference between the terms 'cat' in spam and 'cat' in spam if a dictionary is\n",
    "   contained in spam?\n",
    "   \n",
    "Solution:\n",
    "\n",
    "If key is already present in spam dictionary then it will override the key value with the new value\n"
   ]
  },
  {
   "cell_type": "markdown",
   "metadata": {},
   "source": [
    "6. What is the function keys()?\n",
    "\n",
    "Solution:\n",
    "It return all the key name present in dictionary\n",
    "eg\n",
    ">>> spam = {'key1':1,'key2':2}\n",
    ">>> spam.keys()\n",
    "dict_keys(['key1', 'key2'])\n"
   ]
  },
  {
   "cell_type": "markdown",
   "metadata": {},
   "source": [
    "6. What is the difference between the terms 'cat' in spam and 'cat' in spam.values() when a\n",
    "   dictionary is contained in spam?\n",
    "   \n",
    "  Solution:\n",
    "  Term cat in spam is the key name in spam dictionary and cat in spam.values() is the value of the key present in the dictionary\n",
    "  \n",
    "  >>> spam = {'cat':'cat'}\n",
    ">>> spam.values()\n",
    "dict_values(['cat'])\n",
    ">>> spam.keys()\n",
    "dict_keys(['cat'])\n",
    "\n",
    "  "
   ]
  },
  {
   "cell_type": "markdown",
   "metadata": {},
   "source": [
    "7. What is the quickest way to type the following code?\n",
    "   if the word 'colour' isn't in spam:\n",
    "\n",
    "   'black' for spam['color']\n",
    "\n",
    "  Solution:\n",
    "  if 'colour' not in spam:\n",
    "      spam['colour'] = 'black'\n",
    "      \n",
    "  eg:\n",
    "  >>> spam = {}\n",
    "  >>> if 'colour' not in spam:\n",
    "      spam['colour'] = 'black'\n",
    " \n",
    "  >>> spam\n",
    "  {'colour': 'black'}\n"
   ]
  },
  {
   "cell_type": "markdown",
   "metadata": {},
   "source": [
    "8. How do you \"pretty print\" dictionary values using which module and function?\n",
    "\n",
    "Solution:\n",
    "The pprint module provides a capability to “pretty-print” arbitrary Python data structures in a form which can be used as input to the interpreter. If the formatted structures include objects which are not fundamental Python types, the representation may not be loadable."
   ]
  }
 ],
 "metadata": {
  "kernelspec": {
   "display_name": "Python 3",
   "language": "python",
   "name": "python3"
  },
  "language_info": {
   "codemirror_mode": {
    "name": "ipython",
    "version": 3
   },
   "file_extension": ".py",
   "mimetype": "text/x-python",
   "name": "python",
   "nbconvert_exporter": "python",
   "pygments_lexer": "ipython3",
   "version": "3.8.5"
  }
 },
 "nbformat": 4,
 "nbformat_minor": 4
}
