{
 "cells": [
  {
   "cell_type": "markdown",
   "metadata": {},
   "source": [
    "1. What are escape characters, and how do you use them?\n",
    "\n",
    "Solution:\n",
    "To insert characters that are illegal in a string, use an escape character. Some of them are as below\n",
    "\n",
    "\\' - single Quote (to insert a single quote in a string like isn't)\n",
    "\\\\ - backslash (to get default backslash in the stirng or expression)\n",
    "\\n - new line (new line charachter. As character after that will be printed on next line)\n",
    "\\r - carriage return (it return character after \\r only)\n",
    "\\t - Tab (to get the tab space between character)\n",
    "\\b - backspace (it erase one backward charater)\n",
    "\n"
   ]
  },
  {
   "cell_type": "markdown",
   "metadata": {},
   "source": [
    "2. What do the escape characters n and t stand for?\n",
    "\n",
    "solution:\n",
    "t - Tab (to get the tab space between character)\n",
    "n - new line (new line charachter. As character after that will be printed on next line)"
   ]
  },
  {
   "cell_type": "markdown",
   "metadata": {},
   "source": [
    "3. What is the way to include backslash characters in a string?\n",
    "\n",
    "solution:\n",
    "\n",
    "txt = \"hei\\beveryone!\"\n",
    "print(txt) "
   ]
  },
  {
   "cell_type": "markdown",
   "metadata": {},
   "source": [
    "4. The string \"Howl's Moving Castle\" is a correct value. Why isn't the single quote character in the\n",
    "    word Howl's not escaped a problem?\n",
    " \n",
    " solution:\n",
    " \n",
    " because entire string is enclosed with double string and single quote is different from double string"
   ]
  },
  {
   "cell_type": "markdown",
   "metadata": {},
   "source": [
    "5. How do you write a string of newlines if you don't want to use the n character?\n",
    "\n",
    "solution :\n",
    "\n",
    "use two different print statements for eg\n",
    "\n",
    "print ('hei')\n",
    "print ('there')\n",
    "because print statement by default end = '\\n' \n",
    "print (*objects,sep=' ',end='\\n',file=sys.stdout,flush=False)"
   ]
  },
  {
   "cell_type": "markdown",
   "metadata": {},
   "source": [
    "6. What are the values of the given expressions?\n",
    "\n",
    "'Hello, world!'[1]\n",
    "'Hello, world!'[0:5]\n",
    "'Hello, world!'[:5]\n",
    "'Hello, world!'[3:]\n",
    "\n",
    "solution:\n",
    "\n",
    "'Hello, world!'[1] = 'e'\n",
    "'Hello, world!'[0:5] = 'Hello'\n",
    "'Hello, world!'[:5] = 'Hello'\n",
    "'Hello, world!'[3:] = 'lo, world!'"
   ]
  },
  {
   "cell_type": "markdown",
   "metadata": {},
   "source": [
    "7. What are the values of the following expressions?\n",
    "\n",
    "'Hello'.upper()\n",
    "'Hello'.upper().isupper()\n",
    "'Hello'.upper().lower()\n",
    "\n",
    "Solution:\n",
    "'Hello'.upper() = 'HELLO'\n",
    "'Hello'.upper().isupper() = True\n",
    "'Hello'.upper().lower() = 'hello'"
   ]
  },
  {
   "cell_type": "markdown",
   "metadata": {},
   "source": [
    "8. What are the values of the following expressions?\n",
    "\n",
    "'Remember, remember, the fifth of July.'.split()\n",
    "'-'.join('There can only one.'.split())\n",
    "\n",
    "solution:\n",
    "'Remember, remember, the fifth of July.'.split() = ['Remember,', 'remember,', 'the', 'fifth', 'of', 'July.']\n",
    "\n",
    "'-'.join('There can only one.'.split()) = 'There-can-only-one.'\n"
   ]
  },
  {
   "cell_type": "markdown",
   "metadata": {},
   "source": [
    "9. What are the methods for right-justifying, left-justifying, and centering a string?\n",
    "\n",
    "solution:\n",
    "\n",
    "a = 'this is 6th assignment'\n",
    "#centering : print (a.center(40, '#')) \n",
    "#rjustifying : print (a.rjust(40, '-')) \n",
    "#ljustifying : print (a.ljust(40, '-')) "
   ]
  },
  {
   "cell_type": "markdown",
   "metadata": {},
   "source": [
    "10. What is the best way to remove whitespace characters from the start or end?\n",
    "\n",
    "Solution:\n",
    "\n",
    "using .strip()\n",
    "eg :\n",
    "\n",
    "a = '  whitespace  '\n",
    "a.strip() \n",
    "output: 'whitespace'\n"
   ]
  },
  {
   "cell_type": "code",
   "execution_count": null,
   "metadata": {},
   "outputs": [],
   "source": []
  }
 ],
 "metadata": {
  "kernelspec": {
   "display_name": "Python 3",
   "language": "python",
   "name": "python3"
  },
  "language_info": {
   "codemirror_mode": {
    "name": "ipython",
    "version": 3
   },
   "file_extension": ".py",
   "mimetype": "text/x-python",
   "name": "python",
   "nbconvert_exporter": "python",
   "pygments_lexer": "ipython3",
   "version": "3.8.5"
  }
 },
 "nbformat": 4,
 "nbformat_minor": 4
}
