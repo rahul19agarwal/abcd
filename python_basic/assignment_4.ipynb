{
 "cells": [
  {
   "cell_type": "markdown",
   "metadata": {},
   "source": [
    "1. What exactly is []?\n",
    "\n",
    "Solution\n",
    "Its an empty list"
   ]
  },
  {
   "cell_type": "markdown",
   "metadata": {},
   "source": [
    "2. In a list of values stored in a variable called spam, how would you assign the value 'hello' as the\n",
    "third value? (Assume [2, 4, 6, 8, 10] are in spam.)\n",
    "\n",
    "Solution:\n",
    "\n",
    "spam.insert(3,'hello')\n",
    "\n",
    "Output:\n",
    "[2, 4, 6, 'hello', 8, 10]"
   ]
  },
  {
   "cell_type": "markdown",
   "metadata": {},
   "source": [
    "3. What is the value of spam[int(int('3'* 2) / 11)]?\n",
    "\n",
    "Lets pretend the spam includes the list ['a','b','c','d'] for the next three queries.\n",
    "\n",
    "Solution:\n",
    "'d'"
   ]
  },
  {
   "cell_type": "markdown",
   "metadata": {},
   "source": [
    "4. What is the value of spam[-1]?\n",
    "'d'"
   ]
  },
  {
   "cell_type": "markdown",
   "metadata": {},
   "source": [
    "5. What is the value of spam[:2]?\n",
    "Solution:\n",
    "\n",
    "['a','b']"
   ]
  },
  {
   "cell_type": "markdown",
   "metadata": {},
   "source": [
    "6. What is the value of bacon.index('cat')?\n",
    "Lets pretend bacon has the list [3.14,'cat',11,'cat',True] for the next three questions.\n",
    "\n",
    "Solution:\n",
    "1"
   ]
  },
  {
   "cell_type": "markdown",
   "metadata": {},
   "source": [
    "7. How does bacon.append(99) change the look of the list value in bacon?\n",
    "Solution:\n",
    "\n",
    "[3.14, 'cat', 11, 'cat', True, 99]\n"
   ]
  },
  {
   "cell_type": "markdown",
   "metadata": {},
   "source": [
    "8. How does bacon.remove('cat') change the look of the list meaning in bacon?\n",
    "\n",
    "Solution:\n",
    "[3.14, 11, 'cat', True, 99]\n"
   ]
  },
  {
   "cell_type": "markdown",
   "metadata": {},
   "source": [
    "9. What are the list concatenation and list replication operators?\n",
    "\n",
    "Solution:\n",
    "\n",
    "list concatenation: It is use for merging two or more list to a single list like consider\n",
    "[1,2,3,4] + [6,7,8,9] = [1,2,3,4,6,7,8,9]\n",
    "\n",
    "list replication : \n",
    "lst1 = [1,2,3,4,5]\n",
    "lst2 = lst1[:]"
   ]
  },
  {
   "cell_type": "markdown",
   "metadata": {},
   "source": [
    "10. What is difference between the list methods append() and insert()? \n",
    "\n",
    "Solution:\n",
    "insert accept 2 arguments like index value on which it should be inserted and value which should be inserted\n",
    "\n",
    "eg : \n",
    "spam.insert(3,'hello')\n",
    "\n",
    "append() : it just append the value in the list at the last position of the list \n",
    "a = [1,3,4]\n",
    "b = a.apend(5)\n",
    "[1,3,4,5]"
   ]
  },
  {
   "cell_type": "markdown",
   "metadata": {},
   "source": [
    "11. What are the two methods for removing items from a list?\n",
    "\n",
    "Solution:\n",
    "pop()\n",
    "remove()"
   ]
  },
  {
   "cell_type": "markdown",
   "metadata": {},
   "source": [
    "12. Describe how list values and string values are identical.\n",
    "\n",
    "Solution:\n",
    "\n",
    "they both store values on index number both are iterable and can acces value by index value for eg\n",
    "\n",
    "a = [1,2,4,5]\n",
    "b = 'rahul'\n",
    "\n",
    "print (a[0])\n",
    "print (b[0])\n",
    "Output:\n",
    "1\n",
    "r"
   ]
  },
  {
   "cell_type": "markdown",
   "metadata": {},
   "source": [
    "13. Whats the difference between tuples and lists?\n",
    "\n",
    "Solution:\n",
    "tuple: it is not mutable, it supports count and index function module\n",
    "list : it is mutable, it support append, insert, remove, etc function module\n"
   ]
  },
  {
   "cell_type": "markdown",
   "metadata": {},
   "source": [
    "14. How do you type a tuple value that only contains the integer 42?\n",
    "\n",
    "Solution:\n",
    "a = (42,)\n"
   ]
  },
  {
   "cell_type": "markdown",
   "metadata": {},
   "source": [
    "15. How do you get a list values tuple form? How do you get a tuple values list form?\n",
    "\n",
    "Solution:\n",
    "a = [1,2,4]\n",
    "get a list values tuple form: tuple(a)\n",
    "\n",
    "b = (1,2,3)\n",
    "get a tuple values list form : list(b)\n"
   ]
  },
  {
   "cell_type": "markdown",
   "metadata": {},
   "source": [
    "16. Variables that \"contain\" list values are not necessarily lists themselves. Instead, what do they conatin ? \n",
    "\n",
    "Solution:\n",
    "\n",
    "list is the buildin type of sequence out of 6 . Here sequence of data is been store and we can do things like with all sequence type operation. It store value at a position or a index like how sequence store done so that we can fetch data sequence wise with the help of its index value."
   ]
  },
  {
   "cell_type": "markdown",
   "metadata": {},
   "source": [
    "17. How do you distinguish between copy.copy() and copy.deepcopy()?\n",
    "\n",
    "Solution:\n",
    "\n",
    "deepcopy() create new object and does real copy of original object to new one. Here any change made to new object do not reflect to old object\n",
    "\n",
    "copy.copy() create a reference object to first-level data of original object. Here any changes made to new object will reflect to old object too"
   ]
  }
 ],
 "metadata": {
  "kernelspec": {
   "display_name": "Python 3",
   "language": "python",
   "name": "python3"
  },
  "language_info": {
   "codemirror_mode": {
    "name": "ipython",
    "version": 3
   },
   "file_extension": ".py",
   "mimetype": "text/x-python",
   "name": "python",
   "nbconvert_exporter": "python",
   "pygments_lexer": "ipython3",
   "version": "3.8.5"
  }
 },
 "nbformat": 4,
 "nbformat_minor": 4
}
